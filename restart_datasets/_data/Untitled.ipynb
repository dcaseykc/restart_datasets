{
 "cells": [
  {
   "cell_type": "code",
   "execution_count": 1,
   "metadata": {},
   "outputs": [],
   "source": [
    "import pandas as pd\n",
    "\n",
    "df = pd.read_excel('all_data_M_2019.xlsx')"
   ]
  },
  {
   "cell_type": "code",
   "execution_count": 2,
   "metadata": {},
   "outputs": [],
   "source": [
    "safe = df.copy()"
   ]
  },
  {
   "cell_type": "code",
   "execution_count": 11,
   "metadata": {},
   "outputs": [],
   "source": [
    "states = list(set(safe[safe['area_type'] == 2]['area_title']))\n",
    "for state in states:\n",
    "    state_df = safe[safe['area_title'] == state][['occ_code', 'occ_title', 'o_group', 'tot_emp']]\n",
    "    name_string = state.title().replace(' ', '') + '.csv'\n",
    "    state_df.to_csv(name_string)"
   ]
  },
  {
   "cell_type": "code",
   "execution_count": 15,
   "metadata": {},
   "outputs": [],
   "source": [
    "counties = safe[safe['area_type'] == 4][['area_title', 'occ_code', 'occ_title', 'o_group', 'tot_emp']]\n",
    "counties.to_csv('counties.csv')"
   ]
  },
  {
   "cell_type": "code",
   "execution_count": 17,
   "metadata": {},
   "outputs": [],
   "source": [
    "us = safe[(safe['area_type'] == 1) & (safe['naics'] == '000000')]\n",
    "us.to_csv('us.csv')"
   ]
  }
 ],
 "metadata": {
  "kernelspec": {
   "display_name": "Python 3",
   "language": "python",
   "name": "python3"
  },
  "language_info": {
   "codemirror_mode": {
    "name": "ipython",
    "version": 3
   },
   "file_extension": ".py",
   "mimetype": "text/x-python",
   "name": "python",
   "nbconvert_exporter": "python",
   "pygments_lexer": "ipython3",
   "version": "3.8.5"
  }
 },
 "nbformat": 4,
 "nbformat_minor": 4
}
